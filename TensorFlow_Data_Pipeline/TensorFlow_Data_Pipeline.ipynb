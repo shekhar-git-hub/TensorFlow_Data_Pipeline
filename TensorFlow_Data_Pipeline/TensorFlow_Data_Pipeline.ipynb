{
  "nbformat": 4,
  "nbformat_minor": 0,
  "metadata": {
    "colab": {
      "name": "TensorFlow Data Pipeline.ipynb",
      "provenance": [],
      "toc_visible": true
    },
    "kernelspec": {
      "name": "python3",
      "display_name": "Python 3"
    },
    "language_info": {
      "name": "python"
    }
  },
  "cells": [
    {
      "cell_type": "markdown",
      "metadata": {
        "id": "Q9_64sUfAX0E"
      },
      "source": [
        "# TensorFlow Data Pipeline\n",
        "\n",
        "Loading Data into TensorFlow, with tensorflow pipeline."
      ]
    },
    {
      "cell_type": "code",
      "metadata": {
        "id": "rXwwaWAAAV8X"
      },
      "source": [
        "!pip install numpy\n",
        "!pip install tensorflow"
      ],
      "execution_count": null,
      "outputs": []
    },
    {
      "cell_type": "markdown",
      "metadata": {
        "id": "yyzJ6XlZBOov"
      },
      "source": [
        "Step 1: Create the data"
      ]
    },
    {
      "cell_type": "code",
      "metadata": {
        "colab": {
          "base_uri": "https://localhost:8080/"
        },
        "id": "KsyTw-OrBDuZ",
        "outputId": "c9e71f16-30fb-407e-c204-40c078fc771e"
      },
      "source": [
        "import numpy as np\n",
        "x_input = np.random.sample((1,2))\n",
        "print(x_input)"
      ],
      "execution_count": 2,
      "outputs": [
        {
          "output_type": "stream",
          "name": "stdout",
          "text": [
            "[[0.31522573 0.24460459]]\n"
          ]
        }
      ]
    },
    {
      "cell_type": "markdown",
      "metadata": {
        "id": "mfDufAxzBjrs"
      },
      "source": [
        "Step 2: Create the placeholder"
      ]
    },
    {
      "cell_type": "code",
      "metadata": {
        "id": "Auj01VHsBsFb"
      },
      "source": [
        "#using a placeholder\n",
        "import tensorflow.compat.v1 as tf\n",
        "tf.disable_v2_behavior()\n",
        "x = tf.placeholder(tf.float32, shape = [1,2], name = 'X')"
      ],
      "execution_count": null,
      "outputs": []
    },
    {
      "cell_type": "markdown",
      "metadata": {
        "id": "5gYCXj0LCoaM"
      },
      "source": [
        "Step 3: Define the dataset method"
      ]
    },
    {
      "cell_type": "code",
      "metadata": {
        "id": "FBXd7cCMCyXj"
      },
      "source": [
        "dataset = tf.data.Dataset.from_tensor_slices(x)"
      ],
      "execution_count": 6,
      "outputs": []
    },
    {
      "cell_type": "markdown",
      "metadata": {
        "id": "gPd7C4gKDKPz"
      },
      "source": [
        "Step 4: Create the pipeline"
      ]
    },
    {
      "cell_type": "code",
      "metadata": {
        "id": "cxjscKbaDOuR"
      },
      "source": [
        "iterator = dataset.make_initializable_iterator()\n",
        "get_next = iterator.get_next()"
      ],
      "execution_count": null,
      "outputs": []
    },
    {
      "cell_type": "markdown",
      "metadata": {
        "id": "SSqotmqSDoLR"
      },
      "source": [
        "Step 5: Execute the operation"
      ]
    },
    {
      "cell_type": "code",
      "metadata": {
        "colab": {
          "base_uri": "https://localhost:8080/"
        },
        "id": "E4WVegJiDryi",
        "outputId": "0ba2e42e-e277-49a0-cb8e-07c1ce8d31b5"
      },
      "source": [
        "with tf.Session() as sess:\n",
        "  #feed the placeholder with data\n",
        "  sess.run(iterator.initializer, feed_dict={x: x_input})\n",
        "  print(sess.run(get_next))"
      ],
      "execution_count": 8,
      "outputs": [
        {
          "output_type": "stream",
          "name": "stdout",
          "text": [
            "[0.31522572 0.24460459]\n"
          ]
        }
      ]
    }
  ]
}